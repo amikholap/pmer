{
 "cells": [
  {
   "cell_type": "code",
   "execution_count": null,
   "metadata": {
    "collapsed": false
   },
   "outputs": [],
   "source": [
    "%load_ext autoreload\n",
    "%autoreload 2\n",
    "%matplotlib notebook\n",
    "import matplotlib.pyplot as plt\n",
    "import numpy as np\n",
    "import seaborn as sns\n",
    "import sklearn.metrics\n",
    "\n",
    "import pmer"
   ]
  },
  {
   "cell_type": "code",
   "execution_count": null,
   "metadata": {
    "collapsed": true
   },
   "outputs": [],
   "source": [
    "dataset = pmer.datasets.Dota2Dataset.from_csv('dota2.csv')"
   ]
  },
  {
   "cell_type": "code",
   "execution_count": null,
   "metadata": {
    "collapsed": true
   },
   "outputs": [],
   "source": [
    "def eval_predictions(predictions):\n",
    "    master_predictions = [0] * len(dataset)\n",
    "    master_predictions = sum([np.asarray(preds) for preds in predictions]) / len(predictions)\n",
    "    accuracy = len([p for p in master_predictions if p > 0.5]) / len(master_predictions)\n",
    "    log_loss = sklearn.metrics.log_loss([1] * len(master_predictions), master_predictions)\n",
    "    mse = sklearn.metrics.mean_squared_error([1] * len(master_predictions), master_predictions)\n",
    "    return accuracy, log_loss, mse"
   ]
  },
  {
   "cell_type": "code",
   "execution_count": null,
   "metadata": {
    "collapsed": false
   },
   "outputs": [],
   "source": [
    "# Accumulate predictions from weaker raters.\n",
    "n_raters = 5\n",
    "p = 0.5\n",
    "\n",
    "predictions = []\n",
    "performance = []\n",
    "\n",
    "for i in range(n_raters):\n",
    "    ds = dataset.subsample(p)\n",
    "    rater = pmer.EloRater()\n",
    "    rater.process_dataset(ds)\n",
    "    preds = rater.predict(dataset.events)\n",
    "    predictions.append(preds)\n",
    "    del rater\n",
    "    del ds\n",
    "    performance.append(eval_predictions(predictions))\n",
    "    print('Processed {}/{} raters'.format(i+1, n_raters))\n",
    "    \n",
    "for i in range(n_raters):\n",
    "    ds = dataset.subsample(p)\n",
    "    rater = pmer.TrueskillRater()\n",
    "    rater.process_dataset(ds)\n",
    "    preds = rater.predict(dataset.events)\n",
    "    predictions.append(preds)\n",
    "    del rater\n",
    "    del ds\n",
    "    performance.append(eval_predictions(predictions))\n",
    "    print('Processed {}/{} raters'.format(i+1, n_raters))"
   ]
  },
  {
   "cell_type": "code",
   "execution_count": null,
   "metadata": {
    "collapsed": false
   },
   "outputs": [],
   "source": [
    "master_predictions = [0] * len(dataset)\n",
    "master_predictions = sum([np.asarray(preds) for preds in predictions]) / len(predictions)"
   ]
  },
  {
   "cell_type": "code",
   "execution_count": null,
   "metadata": {
    "collapsed": false
   },
   "outputs": [],
   "source": [
    "accuracy = len([p for p in master_predictions if p > 0.5]) / len(master_predictions)\n",
    "print('Accuracy = {:.2%}'.format(accuracy))"
   ]
  },
  {
   "cell_type": "code",
   "execution_count": null,
   "metadata": {
    "collapsed": false
   },
   "outputs": [],
   "source": [
    "log_loss = sklearn.metrics.log_loss([1] * len(master_predictions), master_predictions)\n",
    "print('Logloss = {:.5}'.format(log_loss))"
   ]
  },
  {
   "cell_type": "code",
   "execution_count": null,
   "metadata": {
    "collapsed": false
   },
   "outputs": [],
   "source": [
    "mse = sklearn.metrics.mean_squared_error([1] * len(master_predictions), master_predictions)\n",
    "print('MSE = {:.5}'.format(mse))"
   ]
  },
  {
   "cell_type": "code",
   "execution_count": null,
   "metadata": {
    "collapsed": false
   },
   "outputs": [],
   "source": [
    "plt.hist(master_predictions, bins=25);"
   ]
  },
  {
   "cell_type": "code",
   "execution_count": null,
   "metadata": {
    "collapsed": false
   },
   "outputs": [],
   "source": [
    "plt.plot([x[0] for x in performance])"
   ]
  },
  {
   "cell_type": "code",
   "execution_count": null,
   "metadata": {
    "collapsed": true
   },
   "outputs": [],
   "source": []
  }
 ],
 "metadata": {
  "kernelspec": {
   "display_name": "Python 3",
   "language": "python",
   "name": "python3"
  },
  "language_info": {
   "codemirror_mode": {
    "name": "ipython",
    "version": 3
   },
   "file_extension": ".py",
   "mimetype": "text/x-python",
   "name": "python",
   "nbconvert_exporter": "python",
   "pygments_lexer": "ipython3",
   "version": "3.4.3+"
  }
 },
 "nbformat": 4,
 "nbformat_minor": 0
}
