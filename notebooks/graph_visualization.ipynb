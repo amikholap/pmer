{
 "cells": [
  {
   "cell_type": "code",
   "execution_count": null,
   "metadata": {
    "collapsed": false
   },
   "outputs": [],
   "source": [
    "%load_ext autoreload\n",
    "%autoreload 2\n",
    "%matplotlib notebook\n",
    "import collections\n",
    "import json\n",
    "import math\n",
    "import random\n",
    "\n",
    "import IPython.display\n",
    "import matplotlib.pyplot as plt\n",
    "import numpy as np\n",
    "import seaborn as sns\n",
    "import sklearn.metrics\n",
    "\n",
    "import pmer"
   ]
  },
  {
   "cell_type": "code",
   "execution_count": null,
   "metadata": {
    "collapsed": true
   },
   "outputs": [],
   "source": [
    "dataset = pmer.datasets.Dota2Dataset.from_csv('dota2.csv')"
   ]
  },
  {
   "cell_type": "code",
   "execution_count": null,
   "metadata": {
    "collapsed": false
   },
   "outputs": [],
   "source": [
    "# Represent games between players as an undirected graph.\n",
    "\n",
    "node_template = {\n",
    "    'n_games': 0,\n",
    "}\n",
    "\n",
    "edge_template = {\n",
    "    'n_games': 0,\n",
    "}\n",
    "\n",
    "nodes = collections.defaultdict(lambda: node_template.copy())\n",
    "edges = collections.defaultdict(lambda: edge_template.copy())\n",
    "\n",
    "for event in list(dataset)[-5000:]:\n",
    "    player_ids = event.winners + event.losers\n",
    "    for player1_id in player_ids:\n",
    "        nodes[player1_id]['n_games'] += 1\n",
    "    for player1_id in event.winners:\n",
    "        for player2_id in event.losers:\n",
    "            key = tuple(sorted([player1_id, player2_id]))\n",
    "            edges[key]['n_games'] += 1"
   ]
  },
  {
   "cell_type": "code",
   "execution_count": null,
   "metadata": {
    "collapsed": false
   },
   "outputs": [],
   "source": [
    "# Convert nodes and edges to sigma.js format.\n",
    "\n",
    "for i, (player_id, node) in enumerate(nodes.items()):\n",
    "    node['id'] = str(player_id)\n",
    "    node['label'] = str(player_id)\n",
    "    node['x'] = 100 * math.cos(2 * i * math.pi / len(nodes))\n",
    "    node['y'] = 100 * math.sin(2 * i * math.pi / len(nodes))\n",
    "    node['size'] = math.log(node['n_games'] + 1)\n",
    "    \n",
    "for i, ((player1_id, player2_id), edge) in enumerate(edges.items()):\n",
    "    # edge['id'] = '{}vs{}'.format(player1_id, player2_id)\n",
    "    edge['id'] = str(i)\n",
    "    edge['source'] = str(player1_id)\n",
    "    edge['target'] = str(player2_id)\n",
    "\n",
    "#graph = {\n",
    "#    'nodes': list(nodes.values()),\n",
    "#    'edges': list(edges.values()),\n",
    "#}\n",
    "\n",
    "#filename = 'graph.json'\n",
    "#file = open(filename, 'w')\n",
    "#json.dump(graph, file)\n",
    "#file.flush()\n",
    "    \n",
    "# Bind the constructed graph to a global JS variable.\n",
    "#IPython.display.Javascript('window.graph_filename = {};'.format(json.dumps(filename)))"
   ]
  },
  {
   "cell_type": "code",
   "execution_count": null,
   "metadata": {
    "collapsed": false
   },
   "outputs": [],
   "source": [
    "import csv\n",
    "\n",
    "with open('graph.csv', 'w') as f:\n",
    "    writer = csv.writer(f)\n",
    "    writer.writerow(['Source', 'Target', 'Type', 'Weight'])\n",
    "    for edge in edges.values():\n",
    "        row = [edge['source'], edge['target'], 'undirected', float(edge['n_games'])]\n",
    "        writer.writerow(row)"
   ]
  },
  {
   "cell_type": "code",
   "execution_count": null,
   "metadata": {
    "collapsed": false
   },
   "outputs": [],
   "source": [
    "import csv\n",
    "import scipy.sparse\n",
    "\n",
    "node_ids = sorted(nodes)\n",
    "\n",
    "adj_matrix = scipy.sparse.lil_matrix((len(node_ids), len(node_ids)), dtype=np.float)\n",
    "\n",
    "for i, source_id in enumerate(node_ids):\n",
    "    for j, target_id in enumerate(node_ids[i+1:], i+1):\n",
    "        edge = edges.get((source_id, target_id), None)\n",
    "        if edge:\n",
    "            adj_matrix[i, j] = edge['n_games']\n",
    "            adj_matrix[j, i] = edge['n_games']\n",
    "\n",
    "with open('graph.csv', 'w') as f:\n",
    "    writer = csv.writer(f)\n",
    "    writer.writerow([''] + node_ids)\n",
    "    for i, node_id in enumerate(node_ids):\n",
    "        row = [node_id] + list(adj_matrix[i].toarray()[0])\n",
    "        writer.writerow(row)"
   ]
  },
  {
   "cell_type": "code",
   "execution_count": null,
   "metadata": {
    "collapsed": false
   },
   "outputs": [],
   "source": [
    "%%HTML\n",
    "<script src=\"jslib/jquery-2.1.4.min.js\"></script>\n",
    "<script src=\"jslib/sigma/sigma.min.js\"></script>\n",
    "<script src=\"jslib/sigma/plugins/sigma.parsers.json.min.js\"></script>\n",
    "<script src=\"jslib/sigma/plugins/sigma.layout.forceAtlas2.min.js\"></script>\n",
    "<style>\n",
    "#sigma-container {\n",
    "    max-width: 400px;\n",
    "    height: 400px;\n",
    "    margin: auto;\n",
    "}\n",
    "</style>\n",
    "<div id=\"sigma-container\"></div>"
   ]
  },
  {
   "cell_type": "code",
   "execution_count": null,
   "metadata": {
    "collapsed": false
   },
   "outputs": [],
   "source": [
    "%%javascript\n",
    "sigma.parsers.json(window.graph_filename, {\n",
    "    container: 'sigma-container',\n",
    "}, function (s) {\n",
    "    //debugger;\n",
    "    s.startForceAtlas2({worker: true, barnesHutOptimize: false});\n",
    "})"
   ]
  },
  {
   "cell_type": "code",
   "execution_count": null,
   "metadata": {
    "collapsed": false
   },
   "outputs": [],
   "source": []
  }
 ],
 "metadata": {
  "kernelspec": {
   "display_name": "Python 3",
   "language": "python",
   "name": "python3"
  },
  "language_info": {
   "codemirror_mode": {
    "name": "ipython",
    "version": 3
   },
   "file_extension": ".py",
   "mimetype": "text/x-python",
   "name": "python",
   "nbconvert_exporter": "python",
   "pygments_lexer": "ipython3",
   "version": "3.4.3+"
  }
 },
 "nbformat": 4,
 "nbformat_minor": 0
}
