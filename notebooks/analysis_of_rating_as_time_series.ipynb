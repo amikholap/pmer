{
 "cells": [
  {
   "cell_type": "code",
   "execution_count": null,
   "metadata": {
    "collapsed": false
   },
   "outputs": [],
   "source": [
    "%load_ext autoreload\n",
    "%autoreload 2\n",
    "%config InlineBackend.close_figures = False\n",
    "%config InlineBackend.figure_format = 'svg'\n",
    "%matplotlib inline\n",
    "\n",
    "import gc\n",
    "\n",
    "import matplotlib.pyplot as plt\n",
    "import numpy as np\n",
    "import seaborn as sns\n",
    "from IPython.display import clear_output\n",
    "\n",
    "import pmer"
   ]
  },
  {
   "cell_type": "code",
   "execution_count": null,
   "metadata": {
    "collapsed": true
   },
   "outputs": [],
   "source": [
    "# Set a predefined figure styling.\n",
    "sns.set_context('paper')\n",
    "\n",
    "# Draw plots only after plt.show() is called.\n",
    "plt.ioff()"
   ]
  },
  {
   "cell_type": "code",
   "execution_count": null,
   "metadata": {
    "collapsed": true
   },
   "outputs": [],
   "source": [
    "class PlotGrid(object):\n",
    "    \"\"\"A grid of several related plots.\"\"\"\n",
    "    \n",
    "    def __init__(self, nrows, ncols, sharex='col', row_titles=None, col_titles=None):\n",
    "        self._figure, self._axes = plt.subplots(nrows, ncols, figsize=(9, 6), sharex=sharex)\n",
    "        if row_titles:\n",
    "            self.set_row_titles(row_titles)\n",
    "        if col_titles:\n",
    "            self.set_col_titles(col_titles)\n",
    "        \n",
    "    @property\n",
    "    def figure(self):\n",
    "        return self._figure\n",
    "    \n",
    "    @property\n",
    "    def axes(self):\n",
    "        return self._axes\n",
    "    \n",
    "    def set_row_titles(self, titles, fontsize='large'):\n",
    "        assert len(titles) == self._axes.shape[0]\n",
    "        for title, ax in zip(titles, self._axes[:,0]):\n",
    "            bbox = ax.get_position()\n",
    "            text_x_center = bbox.x0 - 0.05\n",
    "            text_y_center = (bbox.y0 + bbox.y1) / 2\n",
    "            \n",
    "            self._figure.text(text_x_center, text_y_center, title,\n",
    "                              fontsize=fontsize, ha='center', va='center', rotation='vertical')\n",
    "    \n",
    "    def set_col_titles(self, titles, fontsize='large'):\n",
    "        assert len(titles) == self._axes.shape[1]\n",
    "        for title, ax in zip(titles, self._axes[0,:]):\n",
    "            bbox = ax.get_position()\n",
    "            text_x_center = (bbox.x0 + bbox.x1) / 2\n",
    "            text_y_center = bbox.y1 + 0.05\n",
    "            self._figure.text(text_x_center, text_y_center, title,\n",
    "                              fontsize=fontsize, ha='center', va='center')\n",
    "    \n",
    "    def show(self):\n",
    "        plt.figure(self._figure.number)\n",
    "        plt.draw()\n",
    "        #plt.show()"
   ]
  },
  {
   "cell_type": "code",
   "execution_count": null,
   "metadata": {
    "collapsed": true
   },
   "outputs": [],
   "source": [
    "datasets = [\n",
    "    ('Dota2', 'dota2.csv', pmer.datasets.Dota2Dataset),\n",
    "    ('League of Legends', 'lol.csv', pmer.datasets.LolDataset),\n",
    "    ('Soccer', 'soccer.csv', pmer.datasets.SoccerDataset),\n",
    "]"
   ]
  },
  {
   "cell_type": "code",
   "execution_count": null,
   "metadata": {
    "collapsed": true
   },
   "outputs": [],
   "source": [
    "players = [\n",
    "    ('Dendi', 70388657),\n",
    "    ('Xpecial', 12),\n",
    "    ('FC Bayern München', 5),\n",
    "]"
   ]
  },
  {
   "cell_type": "code",
   "execution_count": null,
   "metadata": {
    "collapsed": true
   },
   "outputs": [],
   "source": [
    "raters = [\n",
    "    ('Elo', pmer.EloRater),\n",
    "    ('TrueSkill', pmer.TrueskillRater),\n",
    "]"
   ]
  },
  {
   "cell_type": "code",
   "execution_count": null,
   "metadata": {
    "collapsed": true
   },
   "outputs": [],
   "source": [
    "# Number of rows and columns for plot grid.\n",
    "nrows = len(raters)\n",
    "ncols = len(datasets)"
   ]
  },
  {
   "cell_type": "code",
   "execution_count": null,
   "metadata": {
    "collapsed": false
   },
   "outputs": [],
   "source": [
    "# Prepare a grid to show raw time series.\n",
    "row_titles = [x[0] for x in raters]\n",
    "col_titles = [x[0] for x in datasets]\n",
    "common_kwargs = {\n",
    "    'row_titles': row_titles,\n",
    "    'col_titles': col_titles,\n",
    "}\n",
    "\n",
    "raw_ts_grid = PlotGrid(nrows, ncols, **common_kwargs)\n",
    "raw_kde_grid = PlotGrid(nrows, ncols, sharex='none', **common_kwargs)\n",
    "raw_acf_grid = PlotGrid(nrows, ncols, **common_kwargs)\n",
    "raw_pacf_grid = PlotGrid(nrows, ncols, **common_kwargs)\n",
    "\n",
    "diff_ts_grid = PlotGrid(nrows, ncols, **common_kwargs)\n",
    "diff_kde_grid = PlotGrid(nrows, ncols, sharex='none', **common_kwargs)\n",
    "diff_acf_grid = PlotGrid(nrows, ncols, **common_kwargs)\n",
    "diff_pacf_grid = PlotGrid(nrows, ncols, **common_kwargs)\n",
    "\n",
    "# Go through all (rater, dataset) combinations\n",
    "# plotting all relevant charts.\n",
    "for i, (rater_name, rater_class) in enumerate(raters):\n",
    "    for j, (ds_name, ds_filename, ds_class) in enumerate(datasets):\n",
    "        \n",
    "        # Fit a rater to a dataset.\n",
    "        dataset = ds_class.from_csv(ds_filename)\n",
    "        rater = rater_class()\n",
    "        rater.process_dataset(dataset)\n",
    "        \n",
    "        # 1-based number of current combination.\n",
    "        cell_num = i * ncols + j + 1\n",
    "        \n",
    "        player_name, player_id = players[j]\n",
    "        \n",
    "        # ***** Raw stats *****\n",
    "        dates = np.array([hr.event.date for hr in rater.history[player_id]])\n",
    "        ts = np.array([float(hr.rating) for hr in rater.history[player_id]])\n",
    "        \n",
    "        # Time series.\n",
    "        ax = raw_ts_grid.axes[i,j]\n",
    "        pmer.tsa.plot_ts(dates, ts, title=player_name, ax=ax)\n",
    "        \n",
    "        # KDEs.\n",
    "        ax = raw_kde_grid.axes[i,j]\n",
    "        pmer.tsa.plot_kde(ts, title=player_name, ax=ax)\n",
    "        \n",
    "        # ACF and PACF.\n",
    "        ax = raw_acf_grid.axes[i,j]\n",
    "        pmer.tsa.plot_acf(ts, title=player_name, ax=ax)\n",
    "        ax = raw_pacf_grid.axes[i,j]\n",
    "        pmer.tsa.plot_pacf(ts, title=player_name, ax=ax)\n",
    "        \n",
    "        # ***** First order difference stats *****\n",
    "        dates = dates[1:]\n",
    "        ts_diff = pmer.tsa.diff(ts)\n",
    "        \n",
    "        # Time series.\n",
    "        ax = diff_ts_grid.axes[i,j]\n",
    "        pmer.tsa.plot_ts(dates, ts_diff, title=player_name, ax=ax)\n",
    "        \n",
    "        # KDEs.\n",
    "        ax = diff_kde_grid.axes[i,j]\n",
    "        pmer.tsa.plot_kde(ts_diff, title=player_name, ax=ax)\n",
    "        \n",
    "        # ACF and PACF.\n",
    "        ax = diff_acf_grid.axes[i,j]\n",
    "        pmer.tsa.plot_acf(ts_diff, title=player_name, ax=ax)\n",
    "        ax = diff_pacf_grid.axes[i,j]\n",
    "        pmer.tsa.plot_pacf(ts_diff, title=player_name, ax=ax)\n",
    "        \n",
    "        del rater\n",
    "        del dataset\n",
    "        gc.collect()\n",
    "        \n",
    "        print('Processed {}/{} combinations'.format(cell_num, len(raters) * len(datasets)))"
   ]
  },
  {
   "cell_type": "markdown",
   "metadata": {},
   "source": [
    "## Raw time series"
   ]
  },
  {
   "cell_type": "code",
   "execution_count": null,
   "metadata": {
    "collapsed": false
   },
   "outputs": [],
   "source": [
    "raw_ts_grid.figure"
   ]
  },
  {
   "cell_type": "markdown",
   "metadata": {},
   "source": [
    "Trends are present. It ARIMA is to be applied we should detrend the series by taking the first order difference.\n",
    "\n",
    "This difference has a clear semantic meaning as a change of rating after each game."
   ]
  },
  {
   "cell_type": "code",
   "execution_count": null,
   "metadata": {
    "collapsed": false
   },
   "outputs": [],
   "source": [
    "raw_kde_grid.figure"
   ]
  },
  {
   "cell_type": "markdown",
   "metadata": {},
   "source": [
    "The distribution is multimodal due to a period before the rating is stabilized."
   ]
  },
  {
   "cell_type": "code",
   "execution_count": null,
   "metadata": {
    "collapsed": false
   },
   "outputs": [],
   "source": [
    "raw_acf_grid.figure"
   ]
  },
  {
   "cell_type": "code",
   "execution_count": null,
   "metadata": {
    "collapsed": false
   },
   "outputs": [],
   "source": [
    "raw_pacf_grid.figure"
   ]
  },
  {
   "cell_type": "markdown",
   "metadata": {},
   "source": [
    "ACF and PACF for raw time series show clear impact of trends."
   ]
  },
  {
   "cell_type": "markdown",
   "metadata": {},
   "source": [
    "## First order difference"
   ]
  },
  {
   "cell_type": "code",
   "execution_count": null,
   "metadata": {
    "collapsed": false
   },
   "outputs": [],
   "source": [
    "diff_ts_grid.figure"
   ]
  },
  {
   "cell_type": "markdown",
   "metadata": {},
   "source": [
    "Differentiated series look stationary and homescedasctical."
   ]
  },
  {
   "cell_type": "code",
   "execution_count": null,
   "metadata": {
    "collapsed": false
   },
   "outputs": [],
   "source": [
    "diff_kde_grid.figure"
   ]
  },
  {
   "cell_type": "markdown",
   "metadata": {},
   "source": [
    "Bimodality is due to the nature of data. Rating changes after loses and wins contribute a separate Gaussial-like density."
   ]
  },
  {
   "cell_type": "code",
   "execution_count": null,
   "metadata": {
    "collapsed": false
   },
   "outputs": [],
   "source": [
    "diff_acf_grid.figure"
   ]
  },
  {
   "cell_type": "markdown",
   "metadata": {},
   "source": [
    "No signs of robustly significant autocorrelation between lagged values."
   ]
  },
  {
   "cell_type": "code",
   "execution_count": null,
   "metadata": {
    "collapsed": false
   },
   "outputs": [],
   "source": [
    "diff_pacf_grid.figure"
   ]
  },
  {
   "cell_type": "markdown",
   "metadata": {},
   "source": [
    "## Conclusion"
   ]
  },
  {
   "cell_type": "markdown",
   "metadata": {},
   "source": [
    "Original time series are non stationary and can't be directly used to fit ARIMA models.\n",
    "\n",
    "First order differentiation provides stationarity but removes autocorrelation between points in time.\n",
    "\n",
    "This means that past values don't have enough information to predict future values.\n",
    "\n",
    "**ARIMA models can't be applied** neither to raw time series because of non stationarity nor to differentiated ones because lagged values are independent."
   ]
  }
 ],
 "metadata": {
  "kernelspec": {
   "display_name": "Python 3",
   "language": "python",
   "name": "python3"
  },
  "language_info": {
   "codemirror_mode": {
    "name": "ipython",
    "version": 3
   },
   "file_extension": ".py",
   "mimetype": "text/x-python",
   "name": "python",
   "nbconvert_exporter": "python",
   "pygments_lexer": "ipython3",
   "version": "3.4.3"
  }
 },
 "nbformat": 4,
 "nbformat_minor": 0
}
